{
 "cells": [
  {
   "cell_type": "markdown",
   "id": "748fb6f4",
   "metadata": {},
   "source": [
    "### Q1"
   ]
  },
  {
   "cell_type": "code",
   "execution_count": 13,
   "id": "6338fa53",
   "metadata": {},
   "outputs": [
    {
     "name": "stdout",
     "output_type": "stream",
     "text": [
      "6\n"
     ]
    }
   ],
   "source": [
    "a = 0\n",
    "\n",
    "def b():\n",
    "    global a\n",
    "    a = c(a)\n",
    "\n",
    "def c(a):\n",
    "    return a + 2\n",
    "\n",
    "b()\n",
    "b()\n",
    "b()\n",
    "\n",
    "print(a)\n"
   ]
  },
  {
   "cell_type": "markdown",
   "id": "aa390613",
   "metadata": {},
   "source": [
    "### Q2"
   ]
  },
  {
   "cell_type": "code",
   "execution_count": 2,
   "id": "5961b7e5",
   "metadata": {},
   "outputs": [],
   "source": [
    "def fileLength(filename):\n",
    "    try:\n",
    "        with open(filename, 'r') as file:\n",
    "            content = file.read()\n",
    "            return len(content)\n",
    "    except FileNotFoundError:\n",
    "        return f\"File {filename} not found.\"\n"
   ]
  },
  {
   "cell_type": "code",
   "execution_count": 3,
   "id": "0e8651a3",
   "metadata": {},
   "outputs": [
    {
     "name": "stdout",
     "output_type": "stream",
     "text": [
      "123\n",
      "File midterm.py not found.\n",
      "102\n"
     ]
    }
   ],
   "source": [
    "print(fileLength('Filelength.txt'))\n",
    "print(fileLength('midterm.py'))  \n",
    "print(fileLength('bloodtype1.txt'))"
   ]
  },
  {
   "cell_type": "markdown",
   "id": "e5da3364",
   "metadata": {},
   "source": [
    "### Q3"
   ]
  },
  {
   "cell_type": "code",
   "execution_count": 4,
   "id": "4c63ced2",
   "metadata": {},
   "outputs": [
    {
     "name": "stdout",
     "output_type": "stream",
     "text": [
      "['doll', 'firetruck', 'kitten']\n"
     ]
    }
   ],
   "source": [
    "class Marsupial:\n",
    "    def __init__(self):\n",
    "        self.pouch = []\n",
    "\n",
    "    def put_in_pouch(self, item):\n",
    "        self.pouch.append(item)\n",
    "\n",
    "    def pouch_contents(self):\n",
    "        return self.pouch\n",
    "\n",
    "m = Marsupial()\n",
    "m.put_in_pouch('doll')\n",
    "m.put_in_pouch('firetruck')\n",
    "m.put_in_pouch('kitten')\n",
    "print(m.pouch_contents())\n"
   ]
  },
  {
   "cell_type": "code",
   "execution_count": 5,
   "id": "ca49390c",
   "metadata": {},
   "outputs": [
    {
     "name": "stdout",
     "output_type": "stream",
     "text": [
      "I am a Kangaroo located at coordinates (0,0)\n",
      "['doll', 'firetruck', 'kitten']\n",
      "I am a Kangaroo located at coordinates (3,0)\n"
     ]
    }
   ],
   "source": [
    "class Kangaroo(Marsupial):\n",
    "    def __init__(self, x, y):\n",
    "        super().__init__()\n",
    "        self.x = x\n",
    "        self.y = y\n",
    "\n",
    "    def jump(self, dx, dy):\n",
    "        self.x += dx\n",
    "        self.y += dy\n",
    "\n",
    "    def __str__(self):\n",
    "        return f\"I am a Kangaroo located at coordinates ({self.x},{self.y})\"\n",
    "\n",
    "\n",
    "k = Kangaroo(0, 0)\n",
    "print(k)\n",
    "k.put_in_pouch('doll')\n",
    "k.put_in_pouch('firetruck')\n",
    "k.put_in_pouch('kitten')\n",
    "print(k.pouch_contents())\n",
    "k.jump(1, 0)\n",
    "k.jump(1, 0)\n",
    "k.jump(1, 0)\n",
    "print(k)\n"
   ]
  },
  {
   "cell_type": "markdown",
   "id": "9eed6161",
   "metadata": {},
   "source": [
    "### Q4"
   ]
  },
  {
   "cell_type": "code",
   "execution_count": 6,
   "id": "ed1a770b",
   "metadata": {},
   "outputs": [
    {
     "name": "stdout",
     "output_type": "stream",
     "text": [
      "1\n",
      "10\n",
      "5\n",
      "16\n",
      "8\n",
      "4\n",
      "2\n",
      "1\n"
     ]
    }
   ],
   "source": [
    "def collatz(x):\n",
    "    print(x)\n",
    "    if x == 1:\n",
    "        return\n",
    "    elif x % 2 == 0:\n",
    "        collatz(x // 2)\n",
    "    else:\n",
    "        collatz(3 * x + 1)\n",
    "\n",
    "collatz(1)\n",
    "collatz(10)\n"
   ]
  },
  {
   "cell_type": "markdown",
   "id": "4d032b9d",
   "metadata": {},
   "source": [
    "### Q5"
   ]
  },
  {
   "cell_type": "code",
   "execution_count": 7,
   "id": "a3c10315",
   "metadata": {},
   "outputs": [
    {
     "name": "stdout",
     "output_type": "stream",
     "text": [
      "0\n",
      "1\n",
      "11\n",
      "1001\n"
     ]
    }
   ],
   "source": [
    "def binary(n):\n",
    "    if n == 0:\n",
    "        print(0, end='')\n",
    "    elif n == 1:\n",
    "        print(1, end='')\n",
    "    else:\n",
    "        binary(n // 2)\n",
    "        print(n % 2, end='')\n",
    "\n",
    "\n",
    "binary(0)  \n",
    "print()  \n",
    "binary(1)\n",
    "print() \n",
    "binary(3)\n",
    "print()  \n",
    "binary(9)\n",
    "print()  \n"
   ]
  },
  {
   "cell_type": "markdown",
   "id": "5c2c77a2",
   "metadata": {},
   "source": [
    "### Q6"
   ]
  },
  {
   "cell_type": "code",
   "execution_count": 26,
   "id": "72e90e17",
   "metadata": {},
   "outputs": [],
   "source": [
    "with open('w3c.txt', 'r') as infile:\n",
    "    lines = infile.readlines()\n",
    "\n",
    "html_content = '<html>\\n<body>\\n'\n",
    "for line in lines:\n",
    "    html_content += f'<h1>{line.strip()}</h1>\\n'\n",
    "html_content += '</body>\\n</html>'\n",
    "\n",
    "with open('w3c.html', 'w') as outfile:\n",
    "    outfile.write(html_content)\n",
    "\n"
   ]
  },
  {
   "cell_type": "code",
   "execution_count": 27,
   "id": "870ac35c",
   "metadata": {},
   "outputs": [],
   "source": [
    "from html.parser import HTMLParser\n",
    "\n",
    "class HeadingParser(HTMLParser):\n",
    "    def __init__(self):\n",
    "        super().__init__()\n",
    "        self.inHeading = False\n",
    "        self.indent = 0\n",
    "\n",
    "    def handle_starttag(self, tag, attrs):\n",
    "        if tag in ['h1', 'h2', 'h3', 'h4', 'h5', 'h6']:\n",
    "            self.inHeading = True\n",
    "            self.indent = int(tag[1]) - 1\n",
    "\n",
    "    def handle_endtag(self, tag):\n",
    "        if tag in ['h1', 'h2', 'h3', 'h4', 'h5', 'h6']:\n",
    "            self.inHeading = False\n",
    "\n",
    "    def handle_data(self, data):\n",
    "        if self.inHeading:\n",
    "            print(' ' * self.indent + data)\n",
    "\n",
    "\n"
   ]
  },
  {
   "cell_type": "code",
   "execution_count": 28,
   "id": "c20bc8b5",
   "metadata": {},
   "outputs": [
    {
     "name": "stdout",
     "output_type": "stream",
     "text": [
      "Change_me\n",
      "W3C Mission\n",
      " Principles\n"
     ]
    }
   ],
   "source": [
    "\n",
    "infile = open('w3c.html')\n",
    "content = infile.read()\n",
    "infile.close()\n",
    "hp = HeadingParser()\n",
    "hp.feed(content)"
   ]
  },
  {
   "cell_type": "markdown",
   "id": "dbfebcc3",
   "metadata": {},
   "source": [
    "### Q7"
   ]
  },
  {
   "cell_type": "code",
   "execution_count": 9,
   "id": "01366e0e",
   "metadata": {},
   "outputs": [
    {
     "name": "stdout",
     "output_type": "stream",
     "text": [
      "https://ca.statebank/\n",
      "    https://ca.statebank/#main-content\n",
      "        https://ca.statebank\n",
      "        https://ca.statebank/personal-banking\n",
      "        https://ca.statebank/account\n",
      "        https://ca.statebank/saving-account\n",
      "        https://ca.statebank/super-saver\n",
      "    https://ca.statebank/premium-saving-account\n",
      "        https://ca.statebank/premium-saving-account#main-content\n",
      "        https://ca.statebank/chequing\n",
      "        https://ca.statebank/documents/344623/345114/POA.pdf\n",
      "        https://ca.statebank/borrowings\n",
      "        https://ca.statebank/mortgages\n",
      "    https://ca.statebank/lines-of-credit\n",
      "        https://ca.statebank/lines-of-credit#main-content\n",
      "        https://ca.statebank/loan-against-gic\n",
      "        https://ca.statebank/investments\n",
      "        https://ca.statebank/gic\n",
      "        https://ca.statebank/tfsa\n",
      "    https://ca.statebank/registered-retirement-saving-plans-rrsp\n",
      "        https://ca.statebank/registered-retirement-saving-plans-rrsp#main-content\n",
      "        https://ca.statebank/send-money-to-india\n",
      "        https://ca.statebank/commitment-to-seniors\n",
      "        https://ca.statebank/business-banking\n",
      "        https://ca.statebank/business-account\n",
      "    https://ca.statebank/super-saver-business\n",
      "        https://ca.statebank/super-saver-business#main-content\n",
      "        https://ca.statebank/chequing-business\n",
      "        https://ca.statebank/gic-business\n",
      "        https://ca.statebank/borrowing\n",
      "        https://ca.statebank/working-capital-loans\n"
     ]
    }
   ],
   "source": [
    "import requests\n",
    "from urllib.parse import urljoin, urlparse\n",
    "from bs4 import BeautifulSoup\n",
    "\n",
    "def webdir(url, depth, indent, visited=None):\n",
    "    if visited is None:\n",
    "        visited = set()\n",
    "\n",
    "    if depth < 0 or url in visited:\n",
    "        return\n",
    "    \n",
    "    visited.add(url)\n",
    "    print(' ' * indent + url)\n",
    "    \n",
    "    try:\n",
    "        response = requests.get(url)\n",
    "        response.raise_for_status()\n",
    "        soup = BeautifulSoup(response.text, 'html.parser')\n",
    "        links = soup.find_all('a', href=True)\n",
    "        \n",
    "        count = 0\n",
    "        for link in links:\n",
    "            href = link.get('href')\n",
    "            new_url = urljoin(url, href)\n",
    "            \n",
    "            if urlparse(new_url).netloc == urlparse(url).netloc and new_url not in visited:\n",
    "                webdir(new_url, depth - 1, indent + 4, visited)\n",
    "                count += 1\n",
    "                if count >= 5:  \n",
    "                    break\n",
    "    except requests.exceptions.RequestException as e:\n",
    "        print(' ' * indent + f\"Error: {e}\")\n",
    "\n",
    "\n",
    "webdir('https://ca.statebank/', 2, 0)\n"
   ]
  },
  {
   "cell_type": "markdown",
   "id": "bcdb64ce",
   "metadata": {},
   "source": [
    "### Q8"
   ]
  },
  {
   "cell_type": "code",
   "execution_count": 10,
   "id": "3659433f",
   "metadata": {},
   "outputs": [
    {
     "name": "stdout",
     "output_type": "stream",
     "text": [
      "\n",
      "\n",
      "The temperature data:\n",
      "(24.8,)\n",
      "(28.4,)\n",
      "(27.9,)\n",
      "(27.6,)\n",
      "(4.2,)\n",
      "(8.3,)\n",
      "(15.7,)\n",
      "(10.4,)\n",
      "(13.6,)\n",
      "(20.7,)\n",
      "(27.7,)\n",
      "(22.2,)\n",
      "\n",
      "\n",
      "\n",
      "The cities, but without repetition:\n",
      "('Mumbai',)\n",
      "('London',)\n",
      "('Cairo',)\n",
      "\n",
      "\n",
      "\n",
      "The Weather records for India:\n",
      "('Mumbai', 'India', 'Winter', 24.8, 5.9)\n",
      "('Mumbai', 'India', 'Spring', 28.4, 16.2)\n",
      "('Mumbai', 'India', 'Summer', 27.9, 1549.4)\n",
      "('Mumbai', 'India', 'Fall', 27.6, 346.0)\n",
      "\n",
      "\n",
      "\n",
      "The Fall records:\n",
      "('Mumbai', 'India', 'Fall', 27.6, 346.0)\n",
      "('London', 'United Kingdom', 'Fall', 10.4, 218.5)\n",
      "('Cairo', 'Egypt', 'Fall', 22.2, 4.5)\n",
      "\n",
      "\n",
      "\n",
      "The city, country, and season for which the average rainfall is between 200 and 400 millimeters:\n",
      "('Mumbai', 'India', 'Fall')\n",
      "('London', 'United Kingdom', 'Winter')\n",
      "('London', 'United Kingdom', 'Fall')\n",
      "\n",
      "\n",
      "\n",
      "The city and country for which the average Fall temperature is above 20 degrees, in increasing temperature order:\n",
      "('Cairo', 'Egypt')\n",
      "('Mumbai', 'India')\n",
      "\n",
      "\n",
      "\n",
      "The total annual rainfall for Cairo:\n",
      "(27.6,)\n",
      "\n",
      "\n",
      "\n",
      "The total rainfall for each season:\n",
      "('Fall', 569.0)\n",
      "('Spring', 192.29999999999998)\n",
      "('Summer', 1706.5)\n",
      "('Winter', 230.1)\n",
      "\n"
     ]
    }
   ],
   "source": [
    "import sqlite3\n",
    "\n",
    "\n",
    "conn = sqlite3.connect(':memory:')\n",
    "c = conn.cursor()\n",
    "c.execute('''\n",
    "CREATE TABLE weather (\n",
    "    city TEXT,\n",
    "    country TEXT,\n",
    "    season TEXT,\n",
    "    temperature REAL,\n",
    "    rainfall REAL\n",
    ")\n",
    "''')\n",
    "data = [\n",
    "    ('Mumbai', 'India', 'Winter', 24.8, 5.9),\n",
    "    ('Mumbai', 'India', 'Spring', 28.4, 16.2),\n",
    "    ('Mumbai', 'India', 'Summer', 27.9, 1549.4),\n",
    "    ('Mumbai', 'India', 'Fall', 27.6, 346.0),\n",
    "    ('London', 'United Kingdom', 'Winter', 4.2, 207.7),\n",
    "    ('London', 'United Kingdom', 'Spring', 8.3, 169.6),\n",
    "    ('London', 'United Kingdom', 'Summer', 15.7, 157.0),\n",
    "    ('London', 'United Kingdom', 'Fall', 10.4, 218.5),\n",
    "    ('Cairo', 'Egypt', 'Winter', 13.6, 16.5),\n",
    "    ('Cairo', 'Egypt', 'Spring', 20.7, 6.5),\n",
    "    ('Cairo', 'Egypt', 'Summer', 27.7, 0.1),\n",
    "    ('Cairo', 'Egypt', 'Fall', 22.2, 4.5)\n",
    "]\n",
    "c.executemany('INSERT INTO weather VALUES (?,?,?,?,?)', data)\n",
    "conn.commit()\n",
    "\n",
    "\n",
    "queries = {\n",
    "    \"The temperature data\": \"SELECT temperature FROM weather\",\n",
    "    \"The cities, but without repetition\": \"SELECT DISTINCT city FROM weather\",\n",
    "    \"The Weather records for India\": \"SELECT * FROM weather WHERE country='India'\",\n",
    "    \"The Fall records\": \"SELECT * FROM weather WHERE season='Fall'\",\n",
    "    \"The city, country, and season for which the average rainfall is between 200 and 400 millimeters\": \"SELECT city, country, season FROM weather WHERE rainfall BETWEEN 200 AND 400\",\n",
    "    \"The city and country for which the average Fall temperature is above 20 degrees, in increasing temperature order\": \"SELECT city, country FROM weather WHERE season='Fall' AND temperature > 20 ORDER BY temperature ASC\",\n",
    "    \"The total annual rainfall for Cairo\": \"SELECT SUM(rainfall) FROM weather WHERE city='Cairo'\",\n",
    "    \"The total rainfall for each season\": \"SELECT season, SUM(rainfall) FROM weather GROUP BY season\"\n",
    "}\n",
    "\n",
    "for key, query in queries.items():\n",
    "    print(\"\\n\")\n",
    "    print(f\"{key}:\")\n",
    "    for row in c.execute(query):\n",
    "        print(row)\n",
    "    print()\n",
    "\n",
    "conn.close()\n"
   ]
  },
  {
   "cell_type": "markdown",
   "id": "70bf5864",
   "metadata": {},
   "source": [
    "### Q9"
   ]
  },
  {
   "cell_type": "code",
   "execution_count": 11,
   "id": "7c68e102",
   "metadata": {},
   "outputs": [
    {
     "name": "stdout",
     "output_type": "stream",
     "text": [
      "\n",
      "Convert to uppercase:\n",
      "['THE', 'QUICK', 'BROWN', 'FOX', 'JUMPS', 'OVER', 'THE', 'LAZY', 'DOG']\n",
      "\n",
      "\n",
      "\n",
      "Convert to lowercase:\n",
      "['the', 'quick', 'brown', 'fox', 'jumps', 'over', 'the', 'lazy', 'dog']\n",
      "\n",
      "\n",
      "\n",
      "Length of each words:\n",
      "[3, 5, 5, 3, 5, 4, 3, 4, 3]\n",
      "\n",
      "\n",
      "\n",
      "List of lists with uppercase, lowercase, and length:\n",
      "[['THE', 'the', 3], ['QUICK', 'quick', 5], ['BROWN', 'brown', 5], ['FOX', 'fox', 3], ['JUMPS', 'jumps', 5], ['OVER', 'over', 4], ['THE', 'the', 3], ['LAZY', 'lazy', 4], ['DOG', 'dog', 3]]\n",
      "\n",
      "\n",
      "\n",
      "Words with 4 or more characters:\n",
      "['quick', 'brown', 'jumps', 'over', 'lazy']\n"
     ]
    }
   ],
   "source": [
    "words = ['The', 'quick', 'brown', 'fox', 'jumps', 'over', 'the', 'lazy', 'dog']\n",
    "\n",
    "\n",
    "uppercase_words = [word.upper() for word in words]\n",
    "print(\"\\nConvert to uppercase:\")\n",
    "print(uppercase_words)\n",
    "print(\"\\n\")\n",
    "\n",
    "\n",
    "lowercase_words = [word.lower() for word in words]\n",
    "print(\"\\nConvert to lowercase:\")\n",
    "print(lowercase_words)\n",
    "print(\"\\n\")\n",
    "\n",
    "\n",
    "lengths = [len(word) for word in words]\n",
    "print(\"\\nLength of each words:\")\n",
    "print(lengths)\n",
    "print(\"\\n\")\n",
    "\n",
    "\n",
    "\n",
    "word_details = [[word.upper(), word.lower(), len(word)] for word in words]\n",
    "print(\"\\nList of lists with uppercase, lowercase, and length:\")\n",
    "print(word_details)\n",
    "print(\"\\n\")\n",
    "\n",
    "\n",
    "words_with_4_or_more = [word for word in words if len(word) >= 4]\n",
    "print(\"\\nWords with 4 or more characters:\")\n",
    "print(words_with_4_or_more)"
   ]
  }
 ],
 "metadata": {
  "kernelspec": {
   "display_name": "Python 3 (ipykernel)",
   "language": "python",
   "name": "python3"
  },
  "language_info": {
   "codemirror_mode": {
    "name": "ipython",
    "version": 3
   },
   "file_extension": ".py",
   "mimetype": "text/x-python",
   "name": "python",
   "nbconvert_exporter": "python",
   "pygments_lexer": "ipython3",
   "version": "3.10.9"
  }
 },
 "nbformat": 4,
 "nbformat_minor": 5
}
